{
 "cells": [
  {
   "cell_type": "code",
   "execution_count": 1,
   "id": "2fa9a5b2",
   "metadata": {},
   "outputs": [
    {
     "name": "stderr",
     "output_type": "stream",
     "text": [
      "C:\\Users\\Admin\\AppData\\Local\\Temp\\ipykernel_17668\\1742597841.py:14: LangChainDeprecationWarning: The class `TavilySearchResults` was deprecated in LangChain 0.3.25 and will be removed in 1.0. An updated version of the class exists in the :class:`~langchain-tavily package and should be used instead. To use it run `pip install -U :class:`~langchain-tavily` and import as `from :class:`~langchain_tavily import TavilySearch``.\n",
      "  search_tool = TavilySearchResults(max_results=2)\n"
     ]
    }
   ],
   "source": [
    "from typing import TypedDict, Annotated\n",
    "from langgraph.graph import add_messages, StateGraph, END\n",
    "from langchain_groq import ChatGroq\n",
    "from langchain_core.messages import AIMessage, HumanMessage\n",
    "from dotenv import load_dotenv\n",
    "from langchain_community.tools.tavily_search import TavilySearchResults\n",
    "from langgraph.prebuilt import ToolNode\n",
    "\n",
    "load_dotenv()\n",
    "\n",
    "class ChildState(TypedDict):\n",
    "    messages: Annotated[list, add_messages]\n",
    "\n",
    "search_tool = TavilySearchResults(max_results=2)\n",
    "tools = [search_tool]\n",
    "\n",
    "llm = ChatGroq(model=\"llama-3.1-8b-instant\")\n",
    "\n",
    "llm_with_tools = llm.bind_tools(tools=tools)\n",
    "\n",
    "def agent(state: ChildState):\n",
    "    res = llm_with_tools.invoke(state[\"messages\"])\n",
    "    print(f\"Search agent res:{res}\")\n",
    "    return {\n",
    "        \"messages\": [res], \n",
    "    }\n",
    "\n",
    "def tools_router(state: ChildState):\n",
    "    last_message = state[\"messages\"][-1]\n",
    "\n",
    "    if(hasattr(last_message, \"tool_calls\") and len(last_message.tool_calls) > 0):\n",
    "        return \"tool_node\"\n",
    "    else: \n",
    "        return \"END\"\n",
    "    \n",
    "\n",
    "tool_node = ToolNode(tools=tools)\n",
    "\n",
    "subgraph = StateGraph(ChildState)\n",
    "\n",
    "subgraph.add_node(\"agent\", agent)\n",
    "subgraph.add_node(\"tool_node\", tool_node)\n",
    "subgraph.set_entry_point(\"agent\")\n",
    "\n",
    "subgraph.add_conditional_edges(\"agent\", tools_router, {\n",
    "    \"tool_node\": \"tool_node\",\n",
    "    \"END\": END\n",
    "})\n",
    "subgraph.add_edge(\"tool_node\", \"agent\")\n",
    "\n",
    "search_app = subgraph.compile()"
   ]
  },
  {
   "cell_type": "code",
   "execution_count": 2,
   "id": "64ef3f19",
   "metadata": {},
   "outputs": [
    {
     "data": {
      "image/png": "[encoded data removed]",
      "text/plain": [
       "<IPython.core.display.Image object>"
      ]
     },
     "metadata": {},
     "output_type": "display_data"
    }
   ],
   "source": [
    "from IPython.display import Image, display\n",
    "from langchain_core.runnables.graph import MermaidDrawMethod\n",
    "\n",
    "display(\n",
    "    Image(\n",
    "        search_app.get_graph().draw_mermaid_png(\n",
    "            draw_method=MermaidDrawMethod.API\n",
    "        )\n",
    "    )\n",
    ")"
   ]
  },
  {
   "cell_type": "code",
   "execution_count": 4,
   "id": "441e1f7c",
   "metadata": {},
   "outputs": [
    {
     "name": "stdout",
     "output_type": "stream",
     "text": [
      "Search agent res:content='' additional_kwargs={'tool_calls': [{'id': 'whhh5xc4f', 'function': {'arguments': '{\"query\":\"Chennai weather today\"}', 'name': 'tavily_search_results_json'}, 'type': 'function'}]} response_metadata={'token_usage': {'completion_tokens': 21, 'prompt_tokens': 285, 'total_tokens': 306, 'completion_time': 0.039886006, 'prompt_time': 0.020682563, 'queue_time': 0.047575037, 'total_time': 0.060568569}, 'model_name': 'llama-3.1-8b-instant', 'system_fingerprint': 'fp_510c177af0', 'service_tier': 'on_demand', 'finish_reason': 'tool_calls', 'logprobs': None} id='run--4e7e5cc9-87e4-4498-b104-7eedb8ee1f1f-0' tool_calls=[{'name': 'tavily_search_results_json', 'args': {'query': 'Chennai weather today'}, 'id': 'whhh5xc4f', 'type': 'tool_call'}] usage_metadata={'input_tokens': 285, 'output_tokens': 21, 'total_tokens': 306}\n",
      "Search agent res:content='The current weather in Chennai is mostly cloudy with a chance of light rain showers and patchy rain possible. The temperature is around 27-33°C during the day and 25-28°C at night.' additional_kwargs={} response_metadata={'token_usage': {'completion_tokens': 43, 'prompt_tokens': 928, 'total_tokens': 971, 'completion_time': 0.072242958, 'prompt_time': 0.062362456, 'queue_time': 0.050794924, 'total_time': 0.134605414}, 'model_name': 'llama-3.1-8b-instant', 'system_fingerprint': 'fp_510c177af0', 'service_tier': 'on_demand', 'finish_reason': 'stop', 'logprobs': None} id='run--788fee4d-7d2e-47f8-8ed0-46243c4a4088-0' usage_metadata={'input_tokens': 928, 'output_tokens': 43, 'total_tokens': 971}\n"
     ]
    },
    {
     "data": {
      "text/plain": [
       "{'messages': [HumanMessage(content='How is the weather in Chennai?', additional_kwargs={}, response_metadata={}, id='2f1c295d-a232-42c8-ac66-52fe090f0c75'),\n",
       "  AIMessage(content='', additional_kwargs={'tool_calls': [{'id': 'whhh5xc4f', 'function': {'arguments': '{\"query\":\"Chennai weather today\"}', 'name': 'tavily_search_results_json'}, 'type': 'function'}]}, response_metadata={'token_usage': {'completion_tokens': 21, 'prompt_tokens': 285, 'total_tokens': 306, 'completion_time': 0.039886006, 'prompt_time': 0.020682563, 'queue_time': 0.047575037, 'total_time': 0.060568569}, 'model_name': 'llama-3.1-8b-instant', 'system_fingerprint': 'fp_510c177af0', 'service_tier': 'on_demand', 'finish_reason': 'tool_calls', 'logprobs': None}, id='run--4e7e5cc9-87e4-4498-b104-7eedb8ee1f1f-0', tool_calls=[{'name': 'tavily_search_results_json', 'args': {'query': 'Chennai weather today'}, 'id': 'whhh5xc4f', 'type': 'tool_call'}], usage_metadata={'input_tokens': 285, 'output_tokens': 21, 'total_tokens': 306}),\n",
       "  ToolMessage(content='[{\"title\": \"Chennai weather in September 2025 - Weather25.com\", \"url\": \"https://www.weather25.com/asia/india/tamil-nadu/chennai?page=month&month=September\", \"content\": \"| 28 Light rain shower 33° /27° | 29 Cloudy 32° /27° | 30 Patchy rain possible 31° /27° |  |  |  |  | [...] | 14 Patchy rain possible 32° /28° | 15 Patchy rain possible 33° /28° | 16 Patchy rain possible 33° /28° | 17 Patchy rain possible 33° /27° | 18 Cloudy 32° /25° | 19 Light rain shower 31° /26° | 20 Light rain shower 33° /27° |\\\\n| 21 Patchy rain possible 29° /28° | 22 Patchy rain possible 29° /27° | 23 Patchy rain possible 33° /27° | 24 Patchy rain possible 34° /28° | 25 Patchy rain possible 34° /28° | 26 Light rain shower 30° /27° | 27 Patchy rain possible 33° /27° | [...] weather25.com\\\\nSearch\\\\nweather in India\\\\nRemove from your favorite locations\\\\nAdd to my locations\\\\nShare\\\\nweather in India\\\\n\\\\n# Chennai weather in September 2025\\\\n\\\\nPatchy rain possible\\\\nPatchy rain possible\\\\nPatchy rain possible\\\\nPatchy rain possible\\\\nCloudy\\\\nLight rain shower\\\\nLight rain shower\\\\nPatchy rain possible\\\\nPatchy rain possible\\\\nPatchy rain possible\\\\nPatchy rain possible\\\\nPatchy rain possible\\\\nLight rain shower\\\\nPatchy rain possible\\\\n\\\\n## The average weather in Chennai in September\", \"score\": 0.8941352}, {\"title\": \"Chennai, Tamil Nadu, India Monthly Weather - AccuWeather\", \"url\": \"https://www.accuweather.com/en/in/chennai/206671/september-weather/206671\", \"content\": \"# Chennai, Tamil Nadu\\\\n\\\\nChennai\\\\n\\\\nTamil Nadu\\\\n\\\\n## Around the Globe\\\\n\\\\nAround the Globe\\\\n\\\\n### Hurricane Tracker\\\\n\\\\n### Severe Weather\\\\n\\\\n### Radar & Maps\\\\n\\\\n### News & Features\\\\n\\\\n### Astronomy\\\\n\\\\n### Business\\\\n\\\\n### Climate\\\\n\\\\n### Health\\\\n\\\\n### Recreation\\\\n\\\\n### Sports\\\\n\\\\n### Travel\\\\n\\\\n### Warnings\\\\n\\\\n### Data Suite\\\\n\\\\n### Forensics\\\\n\\\\n### Advertising\\\\n\\\\n### Superior Accuracy™\\\\n\\\\n### Video\\\\n\\\\n## Monthly\\\\n\\\\n## September\\\\n\\\\n## 2025\\\\n\\\\n## Daily\\\\n\\\\n## Temperature Graph\\\\n\\\\n## Further Ahead\\\\n\\\\nFurther Ahead\\\\n\\\\n### October 2025\\\\n\\\\n### November 2025\", \"score\": 0.5931622}]', name='tavily_search_results_json', id='4a51913e-8dd1-46ed-ba59-3c756fce6bc3', tool_call_id='whhh5xc4f', artifact={'query': 'Chennai weather today', 'follow_up_questions': None, 'answer': None, 'images': [], 'results': [{'url': 'https://www.weather25.com/asia/india/tamil-nadu/chennai?page=month&month=September', 'title': 'Chennai weather in September 2025 - Weather25.com', 'content': '| 28 Light rain shower 33° /27° | 29 Cloudy 32° /27° | 30 Patchy rain possible 31° /27° |  |  |  |  | [...] | 14 Patchy rain possible 32° /28° | 15 Patchy rain possible 33° /28° | 16 Patchy rain possible 33° /28° | 17 Patchy rain possible 33° /27° | 18 Cloudy 32° /25° | 19 Light rain shower 31° /26° | 20 Light rain shower 33° /27° |\\n| 21 Patchy rain possible 29° /28° | 22 Patchy rain possible 29° /27° | 23 Patchy rain possible 33° /27° | 24 Patchy rain possible 34° /28° | 25 Patchy rain possible 34° /28° | 26 Light rain shower 30° /27° | 27 Patchy rain possible 33° /27° | [...] weather25.com\\nSearch\\nweather in India\\nRemove from your favorite locations\\nAdd to my locations\\nShare\\nweather in India\\n\\n# Chennai weather in September 2025\\n\\nPatchy rain possible\\nPatchy rain possible\\nPatchy rain possible\\nPatchy rain possible\\nCloudy\\nLight rain shower\\nLight rain shower\\nPatchy rain possible\\nPatchy rain possible\\nPatchy rain possible\\nPatchy rain possible\\nPatchy rain possible\\nLight rain shower\\nPatchy rain possible\\n\\n## The average weather in Chennai in September', 'score': 0.8941352, 'raw_content': None}, {'url': 'https://www.accuweather.com/en/in/chennai/206671/september-weather/206671', 'title': 'Chennai, Tamil Nadu, India Monthly Weather - AccuWeather', 'content': '# Chennai, Tamil Nadu\\n\\nChennai\\n\\nTamil Nadu\\n\\n## Around the Globe\\n\\nAround the Globe\\n\\n### Hurricane Tracker\\n\\n### Severe Weather\\n\\n### Radar & Maps\\n\\n### News & Features\\n\\n### Astronomy\\n\\n### Business\\n\\n### Climate\\n\\n### Health\\n\\n### Recreation\\n\\n### Sports\\n\\n### Travel\\n\\n### Warnings\\n\\n### Data Suite\\n\\n### Forensics\\n\\n### Advertising\\n\\n### Superior Accuracy™\\n\\n### Video\\n\\n## Monthly\\n\\n## September\\n\\n## 2025\\n\\n## Daily\\n\\n## Temperature Graph\\n\\n## Further Ahead\\n\\nFurther Ahead\\n\\n### October 2025\\n\\n### November 2025', 'score': 0.5931622, 'raw_content': None}], 'response_time': 3.85, 'request_id': 'a54af5dc-7368-4dfd-a466-8534f090cf7d'}),\n",
       "  AIMessage(content='The current weather in Chennai is mostly cloudy with a chance of light rain showers and patchy rain possible. The temperature is around 27-33°C during the day and 25-28°C at night.', additional_kwargs={}, response_metadata={'token_usage': {'completion_tokens': 43, 'prompt_tokens': 928, 'total_tokens': 971, 'completion_time': 0.072242958, 'prompt_time': 0.062362456, 'queue_time': 0.050794924, 'total_time': 0.134605414}, 'model_name': 'llama-3.1-8b-instant', 'system_fingerprint': 'fp_510c177af0', 'service_tier': 'on_demand', 'finish_reason': 'stop', 'logprobs': None}, id='run--788fee4d-7d2e-47f8-8ed0-46243c4a4088-0', usage_metadata={'input_tokens': 928, 'output_tokens': 43, 'total_tokens': 971})]}"
      ]
     },
     "execution_count": 4,
     "metadata": {},
     "output_type": "execute_result"
    }
   ],
   "source": [
    "search_app.invoke({\"messages\": [HumanMessage(content=\"How is the weather in Chennai?\")]})\n"
   ]
  },
  {
   "cell_type": "markdown",
   "id": "f8007a51",
   "metadata": {},
   "source": [
    "## Case 1: Shared Schema (Direct Embedding)"
   ]
  },
  {
   "cell_type": "code",
   "execution_count": 5,
   "id": "502b13c8",
   "metadata": {},
   "outputs": [
    {
     "name": "stdout",
     "output_type": "stream",
     "text": [
      "Search agent res:content='' additional_kwargs={'tool_calls': [{'id': '8f9wzjz3p', 'function': {'arguments': '{\"query\":\"Chennai weather today\"}', 'name': 'tavily_search_results_json'}, 'type': 'function'}]} response_metadata={'token_usage': {'completion_tokens': 21, 'prompt_tokens': 285, 'total_tokens': 306, 'completion_time': 0.040353324, 'prompt_time': 0.020709601, 'queue_time': 0.050461018, 'total_time': 0.061062925}, 'model_name': 'llama-3.1-8b-instant', 'system_fingerprint': 'fp_55d70a61e4', 'service_tier': 'on_demand', 'finish_reason': 'tool_calls', 'logprobs': None} id='run--acd2d6c8-fbbd-40d8-a125-61dbd1d70029-0' tool_calls=[{'name': 'tavily_search_results_json', 'args': {'query': 'Chennai weather today'}, 'id': '8f9wzjz3p', 'type': 'tool_call'}] usage_metadata={'input_tokens': 285, 'output_tokens': 21, 'total_tokens': 306}\n",
      "Search agent res:content='The current weather in Chennai is expected to be patchy with rain showers and cloudy conditions. The temperature is expected to range from 27°C to 33°C.' additional_kwargs={} response_metadata={'token_usage': {'completion_tokens': 34, 'prompt_tokens': 1080, 'total_tokens': 1114, 'completion_time': 0.05278826, 'prompt_time': 0.071262008, 'queue_time': 0.051055302, 'total_time': 0.124050268}, 'model_name': 'llama-3.1-8b-instant', 'system_fingerprint': 'fp_55d70a61e4', 'service_tier': 'on_demand', 'finish_reason': 'stop', 'logprobs': None} id='run--efd0b10f-abcc-4b0f-9241-5a3bb95abe34-0' usage_metadata={'input_tokens': 1080, 'output_tokens': 34, 'total_tokens': 1114}\n"
     ]
    },
    {
     "data": {
      "text/plain": [
       "{'messages': [HumanMessage(content='How is the weather in Chennai?', additional_kwargs={}, response_metadata={}, id='18e9b972-889b-452b-9070-2fc8dab47800'),\n",
       "  AIMessage(content='', additional_kwargs={'tool_calls': [{'id': '8f9wzjz3p', 'function': {'arguments': '{\"query\":\"Chennai weather today\"}', 'name': 'tavily_search_results_json'}, 'type': 'function'}]}, response_metadata={'token_usage': {'completion_tokens': 21, 'prompt_tokens': 285, 'total_tokens': 306, 'completion_time': 0.040353324, 'prompt_time': 0.020709601, 'queue_time': 0.050461018, 'total_time': 0.061062925}, 'model_name': 'llama-3.1-8b-instant', 'system_fingerprint': 'fp_55d70a61e4', 'service_tier': 'on_demand', 'finish_reason': 'tool_calls', 'logprobs': None}, id='run--acd2d6c8-fbbd-40d8-a125-61dbd1d70029-0', tool_calls=[{'name': 'tavily_search_results_json', 'args': {'query': 'Chennai weather today'}, 'id': '8f9wzjz3p', 'type': 'tool_call'}], usage_metadata={'input_tokens': 285, 'output_tokens': 21, 'total_tokens': 306}),\n",
       "  ToolMessage(content='[{\"title\": \"Chennai Weather Forecast 14 Sep 2025 - The Times of India\", \"url\": \"https://timesofindia.indiatimes.com/weather/chennai-weather-forecast-today/600017\", \"content\": \"## TOI\\\\n\\\\n# Chennai Weather Forecast 14 Sep 2025\\\\n\\\\n114111879\\\\n114111893\\\\n114111880\\\\n114111808\\\\n114111808\\\\n114111895\\\\n114111895\\\\n114111842\\\\n114111880\\\\n114111880\\\\n114111823\\\\n114111823\\\\n114111823\\\\n114111880\\\\n114111880\\\\n114111880\\\\n114111880\\\\n114111880\\\\n114111880\\\\n114111880\\\\n114111880\\\\n114111808\\\\n114111880\\\\n114111880\\\\n114111880\\\\n114111797\\\\n114111797\\\\n114111823\\\\n114111823\\\\n114111823\\\\n114111842\\\\n\\\\n## Weather in Popular Cities Clear skies or hazardous air? Get the latest weather insights\\\\n\\\\n## FAQ’s [...] Hyd fails to cut PM10 levels despite Rs 727cr clean air plan\\\\nSirsa reviews progress on winter 2025 air pollution control action plan\\\\nAir quality suffers as less rain, road woes kick up dusty storm\\\\nCity residents lose 6.5 yrs of life due to poor air quality: Report\\\\nMercury levels in Delhi\\'s air highest among 3 Indian cities studied, human activities blamed\\\\n\\\\n## More Stories [...] Mumbai weather: Patchy rain expected today with AQI remains moderate\\\\nKolkata weather: High humidity with moderate rain, AQI remains moderate\\\\nNew Delhi weather update: Warm temperatures and moderate air quality on September 11, 2025\\\\nlogo\", \"score\": 0.8963332}, {\"title\": \"Chennai weather in September 2025 - Weather25.com\", \"url\": \"https://www.weather25.com/asia/india/tamil-nadu/chennai?page=month&month=September\", \"content\": \"| 28 Light rain shower 33° /27° | 29 Cloudy 32° /27° | 30 Patchy rain possible 31° /27° |  |  |  |  | [...] | 14 Patchy rain possible 32° /28° | 15 Patchy rain possible 33° /28° | 16 Patchy rain possible 33° /28° | 17 Patchy rain possible 33° /27° | 18 Cloudy 32° /25° | 19 Light rain shower 31° /26° | 20 Light rain shower 33° /27° |\\\\n| 21 Patchy rain possible 29° /28° | 22 Patchy rain possible 29° /27° | 23 Patchy rain possible 33° /27° | 24 Patchy rain possible 34° /28° | 25 Patchy rain possible 34° /28° | 26 Light rain shower 30° /27° | 27 Patchy rain possible 33° /27° | [...] weather25.com\\\\nSearch\\\\nweather in India\\\\nRemove from your favorite locations\\\\nAdd to my locations\\\\nShare\\\\nweather in India\\\\n\\\\n# Chennai weather in September 2025\\\\n\\\\nPatchy rain possible\\\\nPatchy rain possible\\\\nPatchy rain possible\\\\nPatchy rain possible\\\\nCloudy\\\\nLight rain shower\\\\nLight rain shower\\\\nPatchy rain possible\\\\nPatchy rain possible\\\\nPatchy rain possible\\\\nPatchy rain possible\\\\nPatchy rain possible\\\\nLight rain shower\\\\nPatchy rain possible\\\\n\\\\n## The average weather in Chennai in September\", \"score\": 0.8941352}]', name='tavily_search_results_json', id='ae0939ab-949d-4d10-aed9-7d2b582679cf', tool_call_id='8f9wzjz3p', artifact={'query': 'Chennai weather today', 'follow_up_questions': None, 'answer': None, 'images': [], 'results': [{'url': 'https://timesofindia.indiatimes.com/weather/chennai-weather-forecast-today/600017', 'title': 'Chennai Weather Forecast 14 Sep 2025 - The Times of India', 'content': \"## TOI\\n\\n# Chennai Weather Forecast 14 Sep 2025\\n\\n114111879\\n114111893\\n114111880\\n114111808\\n114111808\\n114111895\\n114111895\\n114111842\\n114111880\\n114111880\\n114111823\\n114111823\\n114111823\\n114111880\\n114111880\\n114111880\\n114111880\\n114111880\\n114111880\\n114111880\\n114111880\\n114111808\\n114111880\\n114111880\\n114111880\\n114111797\\n114111797\\n114111823\\n114111823\\n114111823\\n114111842\\n\\n## Weather in Popular Cities Clear skies or hazardous air? Get the latest weather insights\\n\\n## FAQ’s [...] Hyd fails to cut PM10 levels despite Rs 727cr clean air plan\\nSirsa reviews progress on winter 2025 air pollution control action plan\\nAir quality suffers as less rain, road woes kick up dusty storm\\nCity residents lose 6.5 yrs of life due to poor air quality: Report\\nMercury levels in Delhi's air highest among 3 Indian cities studied, human activities blamed\\n\\n## More Stories [...] Mumbai weather: Patchy rain expected today with AQI remains moderate\\nKolkata weather: High humidity with moderate rain, AQI remains moderate\\nNew Delhi weather update: Warm temperatures and moderate air quality on September 11, 2025\\nlogo\", 'score': 0.8963332, 'raw_content': None}, {'url': 'https://www.weather25.com/asia/india/tamil-nadu/chennai?page=month&month=September', 'title': 'Chennai weather in September 2025 - Weather25.com', 'content': '| 28 Light rain shower 33° /27° | 29 Cloudy 32° /27° | 30 Patchy rain possible 31° /27° |  |  |  |  | [...] | 14 Patchy rain possible 32° /28° | 15 Patchy rain possible 33° /28° | 16 Patchy rain possible 33° /28° | 17 Patchy rain possible 33° /27° | 18 Cloudy 32° /25° | 19 Light rain shower 31° /26° | 20 Light rain shower 33° /27° |\\n| 21 Patchy rain possible 29° /28° | 22 Patchy rain possible 29° /27° | 23 Patchy rain possible 33° /27° | 24 Patchy rain possible 34° /28° | 25 Patchy rain possible 34° /28° | 26 Light rain shower 30° /27° | 27 Patchy rain possible 33° /27° | [...] weather25.com\\nSearch\\nweather in India\\nRemove from your favorite locations\\nAdd to my locations\\nShare\\nweather in India\\n\\n# Chennai weather in September 2025\\n\\nPatchy rain possible\\nPatchy rain possible\\nPatchy rain possible\\nPatchy rain possible\\nCloudy\\nLight rain shower\\nLight rain shower\\nPatchy rain possible\\nPatchy rain possible\\nPatchy rain possible\\nPatchy rain possible\\nPatchy rain possible\\nLight rain shower\\nPatchy rain possible\\n\\n## The average weather in Chennai in September', 'score': 0.8941352, 'raw_content': None}], 'response_time': 3.23, 'request_id': 'a148db93-c2e3-46b9-a510-f2df64c8c3cf'}),\n",
       "  AIMessage(content='The current weather in Chennai is expected to be patchy with rain showers and cloudy conditions. The temperature is expected to range from 27°C to 33°C.', additional_kwargs={}, response_metadata={'token_usage': {'completion_tokens': 34, 'prompt_tokens': 1080, 'total_tokens': 1114, 'completion_time': 0.05278826, 'prompt_time': 0.071262008, 'queue_time': 0.051055302, 'total_time': 0.124050268}, 'model_name': 'llama-3.1-8b-instant', 'system_fingerprint': 'fp_55d70a61e4', 'service_tier': 'on_demand', 'finish_reason': 'stop', 'logprobs': None}, id='run--efd0b10f-abcc-4b0f-9241-5a3bb95abe34-0', usage_metadata={'input_tokens': 1080, 'output_tokens': 34, 'total_tokens': 1114})]}"
      ]
     },
     "execution_count": 5,
     "metadata": {},
     "output_type": "execute_result"
    }
   ],
   "source": [
    "from typing import TypedDict, Annotated\n",
    "from langgraph.graph import add_messages, StateGraph, START, END\n",
    "from langchain_core.messages import HumanMessage\n",
    "\n",
    "# Define parent graph with the same schema\n",
    "class ParentState(TypedDict):\n",
    "    messages: Annotated[list, add_messages]\n",
    "\n",
    "# Create parent graph\n",
    "parent_graph = StateGraph(ParentState)\n",
    "\n",
    "# Add the subgraph as a node\n",
    "parent_graph.add_node(\"search_agent\", search_app)\n",
    "\n",
    "# Connect the flow\n",
    "parent_graph.add_edge(START, \"search_agent\")\n",
    "parent_graph.add_edge(\"search_agent\", END)\n",
    "\n",
    "# Compile parent graph\n",
    "parent_app = parent_graph.compile()\n",
    "\n",
    "# Run the parent graph\n",
    "result = parent_app.invoke({\"messages\": [HumanMessage(content=\"How is the weather in Chennai?\")]})\n",
    "result"
   ]
  },
  {
   "cell_type": "markdown",
   "id": "93d91043",
   "metadata": {},
   "source": [
    "## Case 2: Different Schema (Invoke with Transformation)"
   ]
  },
  {
   "cell_type": "code",
   "execution_count": 6,
   "id": "4c68eab2",
   "metadata": {},
   "outputs": [
    {
     "name": "stdout",
     "output_type": "stream",
     "text": [
      "Search agent res:content='' additional_kwargs={'tool_calls': [{'id': 'x63ed7t00', 'function': {'arguments': '{\"query\":\"Chennai weather today\"}', 'name': 'tavily_search_results_json'}, 'type': 'function'}]} response_metadata={'token_usage': {'completion_tokens': 21, 'prompt_tokens': 285, 'total_tokens': 306, 'completion_time': 0.040263622, 'prompt_time': 0.024289952, 'queue_time': 0.050610198, 'total_time': 0.064553574}, 'model_name': 'llama-3.1-8b-instant', 'system_fingerprint': 'fp_46fc01befd', 'service_tier': 'on_demand', 'finish_reason': 'tool_calls', 'logprobs': None} id='run--24668bb8-e8e6-4203-9ce3-2e51ea6ca4e9-0' tool_calls=[{'name': 'tavily_search_results_json', 'args': {'query': 'Chennai weather today'}, 'id': 'x63ed7t00', 'type': 'tool_call'}] usage_metadata={'input_tokens': 285, 'output_tokens': 21, 'total_tokens': 306}\n",
      "Search agent res:content='The weather in Chennai is expected to be patchy with rain showers and cloudy conditions throughout the day. The temperature is expected to be around 32-33°C during the day and 26-28°C at night. It is recommended to check the latest weather forecast for more accurate information.' additional_kwargs={} response_metadata={'token_usage': {'completion_tokens': 59, 'prompt_tokens': 1080, 'total_tokens': 1139, 'completion_time': 0.105890349, 'prompt_time': 0.071245088, 'queue_time': 0.051095562, 'total_time': 0.177135437}, 'model_name': 'llama-3.1-8b-instant', 'system_fingerprint': 'fp_55d70a61e4', 'service_tier': 'on_demand', 'finish_reason': 'stop', 'logprobs': None} id='run--51fd5e9f-4bf2-4bd6-bb96-787b38f0bd56-0' usage_metadata={'input_tokens': 1080, 'output_tokens': 59, 'total_tokens': 1139}\n",
      "{'query': 'How is the weather in Chennai?', 'response': 'The weather in Chennai is expected to be patchy with rain showers and cloudy conditions throughout the day. The temperature is expected to be around 32-33°C during the day and 26-28°C at night. It is recommended to check the latest weather forecast for more accurate information.'}\n"
     ]
    }
   ],
   "source": [
    "from typing import TypedDict, Annotated, Dict\n",
    "from langgraph.graph import StateGraph, START, END\n",
    "from langchain_core.messages import HumanMessage\n",
    "\n",
    "# Define parent graph with different schema\n",
    "class QueryState(TypedDict):\n",
    "    query: str\n",
    "    response: str\n",
    "\n",
    "# Function to invoke subgraph\n",
    "def search_agent(state: QueryState) -> Dict:\n",
    "    res = HumanMessage(content=state[\"query\"])\n",
    "    # Transform from parent schema to subgraph schema\n",
    "    subgraph_input = {\n",
    "        \"messages\": [res]\n",
    "    }\n",
    "    \n",
    "    # Invoke the subgraph\n",
    "    subgraph_result = search_app.invoke(subgraph_input)\n",
    "    \n",
    "    # Transform response back to parent schema\n",
    "    assistant_message = subgraph_result[\"messages\"][-1]\n",
    "    return {\"response\": assistant_message.content}\n",
    "\n",
    "# Create parent graph\n",
    "parent_graph = StateGraph(QueryState)\n",
    "\n",
    "# Add transformation node that invokes subgraph\n",
    "parent_graph.add_node(\"search_agent\", search_agent)\n",
    "\n",
    "# Connect the flow\n",
    "parent_graph.add_edge(START, \"search_agent\")\n",
    "parent_graph.add_edge(\"search_agent\", END)\n",
    "\n",
    "# Compile parent graph\n",
    "parent_app = parent_graph.compile()\n",
    "\n",
    "# Run the parent graph\n",
    "result = parent_app.invoke({\"query\": \"How is the weather in Chennai?\", \"response\": \"\"})\n",
    "print(result)"
   ]
  },
  {
   "cell_type": "code",
   "execution_count": null,
   "id": "00cf69a1",
   "metadata": {},
   "outputs": [],
   "source": []
  }
 ],
 "metadata": {
  "kernelspec": {
   "display_name": "venv",
   "language": "python",
   "name": "python3"
  },
  "language_info": {
   "codemirror_mode": {
    "name": "ipython",
    "version": 3
   },
   "file_extension": ".py",
   "mimetype": "text/x-python",
   "name": "python",
   "nbconvert_exporter": "python",
   "pygments_lexer": "ipython3",
   "version": "3.13.7"
  }
 },
 "nbformat": 4,
 "nbformat_minor": 5
}
