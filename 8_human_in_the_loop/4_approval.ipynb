{
 "cells": [
  {
   "cell_type": "code",
   "execution_count": 1,
   "id": "2ead4151",
   "metadata": {},
   "outputs": [
    {
     "name": "stdout",
     "output_type": "stream",
     "text": [
      "Note: you may need to restart the kernel to use updated packages.\n"
     ]
    }
   ],
   "source": [
    "%pip -q install ipython langchain_groq dotenv"
   ]
  },
  {
   "cell_type": "code",
   "execution_count": 1,
   "id": "f62dee4a",
   "metadata": {},
   "outputs": [
    {
     "name": "stderr",
     "output_type": "stream",
     "text": [
      "C:\\Users\\Admin\\AppData\\Local\\Temp\\ipykernel_1416\\3844927770.py:15: LangChainDeprecationWarning: The class `TavilySearchResults` was deprecated in LangChain 0.3.25 and will be removed in 1.0. An updated version of the class exists in the :class:`~langchain-tavily package and should be used instead. To use it run `pip install -U :class:`~langchain-tavily` and import as `from :class:`~langchain_tavily import TavilySearch``.\n",
      "  search_tool = TavilySearchResults(max_results=2)\n"
     ]
    }
   ],
   "source": [
    "from dotenv import load_dotenv\n",
    "load_dotenv(dotenv_path=\".env\")\n",
    "from langgraph.graph import StateGraph, END, add_messages\n",
    "from langgraph.checkpoint.memory import MemorySaver\n",
    "from langgraph.prebuilt import ToolNode\n",
    "from langchain_community.tools import TavilySearchResults\n",
    "from langchain_core.messages import HumanMessage\n",
    "from typing import TypedDict, Annotated\n",
    "from langchain_groq import ChatGroq\n",
    "\n",
    "memory = MemorySaver()\n",
    "\n",
    "llm = ChatGroq(model=\"llama-3.1-8b-instant\")\n",
    "\n",
    "search_tool = TavilySearchResults(max_results=2)\n",
    "\n",
    "class State(TypedDict):\n",
    "    messages: Annotated[list,add_messages]\n",
    "\n",
    "tools = [search_tool]\n",
    "\n",
    "llm_with_tools = llm.bind_tools(tools=tools)\n",
    "\n",
    "def model_node(state: State):\n",
    "    return {\n",
    "        \"messages\": [llm_with_tools.invoke(state[\"messages\"])]\n",
    "    }\n",
    "\n",
    "def tools_router(state: State):\n",
    "    last_message = state[\"messages\"][-1]\n",
    "    if hasattr(last_message, \"tool_calls\") and len(last_message.tool_calls) > 0:\n",
    "        return \"tools_node\"\n",
    "    else:\n",
    "        return END\n",
    "\n",
    "graph = StateGraph(State)\n",
    "graph.add_node(\"model_node\",model_node)\n",
    "graph.add_node(\"tools_node\", ToolNode(tools=tools))\n",
    "graph.set_entry_point(\"model_node\")\n",
    "\n",
    "\n",
    "graph.add_conditional_edges(\"model_node\", tools_router)\n",
    "graph.add_edge(\"tools_node\", \"model_node\")\n",
    "\n",
    "app = graph.compile(checkpointer=memory, interrupt_before=['tools_node'])\n",
    "\n"
   ]
  },
  {
   "cell_type": "code",
   "execution_count": 2,
   "id": "75548776",
   "metadata": {},
   "outputs": [
    {
     "data": {
      "image/png": "[encoded data removed]",
      "text/plain": [
       "<IPython.core.display.Image object>"
      ]
     },
     "metadata": {},
     "output_type": "display_data"
    }
   ],
   "source": [
    "from IPython.display import Image, display\n",
    "display(Image(app.get_graph().draw_mermaid_png()))"
   ]
  },
  {
   "cell_type": "code",
   "execution_count": 6,
   "id": "20193315",
   "metadata": {},
   "outputs": [
    {
     "name": "stdout",
     "output_type": "stream",
     "text": [
      "event index 0\n",
      "================================\u001b[1m Human Message \u001b[0m=================================\n",
      "\n",
      "what is the current weather in New Delhi\n",
      "event index 1\n",
      "==================================\u001b[1m Ai Message \u001b[0m==================================\n",
      "Tool Calls:\n",
      "  tavily_search_results_json (m3thb9t0t)\n",
      " Call ID: m3thb9t0t\n",
      "  Args:\n",
      "    query: current weather in New Delhi today\n"
     ]
    }
   ],
   "source": [
    "config = {\n",
    "    \"configurable\": {\n",
    "        \"thread_id\": 1\n",
    "    }\n",
    "}\n",
    "\n",
    "events = app.stream({\n",
    "    \"messages\": [HumanMessage(content=\"what is the current weather in New Delhi\")]\n",
    "}, \n",
    "config=config,\n",
    "stream_mode=\"values\"\n",
    ")\n",
    "\n",
    "for i,event in enumerate(events):\n",
    "    print(\"event index\",i)\n",
    "    event['messages'][-1].pretty_print()"
   ]
  },
  {
   "cell_type": "code",
   "execution_count": 4,
   "id": "012ac4e8",
   "metadata": {},
   "outputs": [
    {
     "name": "stdout",
     "output_type": "stream",
     "text": [
      "==================================\u001b[1m Ai Message \u001b[0m==================================\n",
      "Tool Calls:\n",
      "  tavily_search_results_json (397m1as6z)\n",
      " Call ID: 397m1as6z\n",
      "  Args:\n",
      "    query: current weather in New Delhi\n",
      "=================================\u001b[1m Tool Message \u001b[0m=================================\n",
      "Name: tavily_search_results_json\n",
      "\n",
      "[{\"title\": \"Delhi weather in September 2025 - Weather25.com\", \"url\": \"https://www.weather25.com/asia/india/delhi?page=month&month=September\", \"content\": \"| 14 Partly cloudy 36° /29° | 15 Partly cloudy 37° /29° | 16 Partly cloudy 38° /29° | 17 Partly cloudy 39° /30° | 18 Patchy rain possible 37° /29° | 19 Light rain shower 36° /27° | 20 Light rain shower 32° /25° |\\n| 21 Patchy rain possible 31° /25° | 22 Light rain shower 35° /28° | 23 Light rain shower 34° /28° | 24 Partly cloudy 36° /28° | 25 Light rain shower 35° /27° | 26 Patchy rain possible 35° /27° | 27 Sunny 35° /27° | [...] Partly cloudy\\nLight rain shower\\nLight rain shower\\nPatchy rain possible\\nPatchy rain possible\\nPartly cloudy\\nPartly cloudy\\nPatchy rain possible\\nPartly cloudy\\nPartly cloudy\\nPartly cloudy\\nPartly cloudy\\nPartly cloudy\\nPartly cloudy\\nPartly cloudy\\nPartly cloudy\\nPartly cloudy\\nPatchy rain possible\\nLight rain shower\\nLight rain shower\\nPatchy rain possible\\nLight rain shower\\nLight rain shower\\nPartly cloudy\\nLight rain shower\\nPatchy rain possible\\nSunny\\nPartly cloudy\\nSunny\\nSunny [...] | Sun | Mon | Tue | Wed | Thu | Fri | Sat |\\n ---  ---  --- \\n|  | 1 Partly cloudy 35° /28° | 2 Light rain shower 36° /29° | 3 Light rain shower 35° /28° | 4 Patchy rain possible 37° /28° | 5 Patchy rain possible 37° /28° | 6 Partly cloudy 36° /28° |\\n| 7 Partly cloudy 36° /28° | 8 Patchy rain possible 35° /27° | 9 Partly cloudy 35° /28° | 10 Partly cloudy 35° /28° | 11 Partly cloudy 35° /28° | 12 Partly cloudy 36° /27° | 13 Partly cloudy 36° /30° |\", \"score\": 0.68748367}, {\"title\": \"Delhi, Delhi, India Monthly Weather - AccuWeather\", \"url\": \"https://www.accuweather.com/en/in/delhi/202396/september-weather/202396\", \"content\": \"## Around the Globe\\n\\nAround the Globe\\n\\n### Hurricane Tracker\\n\\n### Severe Weather\\n\\n### Radar & Maps\\n\\n### News\\n\\n### Video\\n\\nTop Stories\\n\\nWeather Forecasts\\n\\nDry weather pattern builds across much of eastern U.S.\\n\\n2 hours ago\\n\\nWeather News\\n\\nRare deadly shark attack sparks ocean hunt in Sydney, Australia\\n\\n59 minutes ago\\n\\nWeather Forecasts\\n\\nFall foliage 2025: Where to expect the best color\\n\\n5 days ago\\n\\nWeather Forecasts\\n\\nSmoke, wildfire and lightning concerns remain high across Northwest\\n\\n2 hours ago [...] # Delhi, Delhi\\n\\nDelhi\\n\\nDelhi\\n\\n## Around the Globe\\n\\nAround the Globe\\n\\n### Hurricane Tracker\\n\\n### Severe Weather\\n\\n### Radar & Maps\\n\\n### News & Features\\n\\n### Astronomy\\n\\n### Business\\n\\n### Climate\\n\\n### Health\\n\\n### Recreation\\n\\n### Sports\\n\\n### Travel\\n\\n### Warnings\\n\\n### Data Suite\\n\\n### Forensics\\n\\n### Advertising\\n\\n### Superior Accuracy™\\n\\n### Video\\n\\n## Monthly\\n\\n## September\\n\\n## 2025\\n\\n## Daily\\n\\n## Temperature Graph\\n\\n## Further Ahead\\n\\nFurther Ahead\\n\\n### October 2025\\n\\n### November 2025\\n\\n### December 2025 [...] Hurricane\\n\\nKiko to pass north of Hawaii, still bringing rain and surf to Islands\\n\\n1 hour ago\\n\\nFeatured Stories\\n\\nWinter Weather\\n\\nCan woolly bear caterpillars predict winter weather?\\n\\n2 days ago\\n\\nAstronomy\\n\\nSpaceflight activates ‘dark genome’ in human cells, researcher says\\n\\n2 days ago\\n\\nWeather News\\n\\nNOAA launches robotic hurricane research vessels\\n\\n2 days ago\\n\\nWeather News\\n\\nNWS expands instant flood mapping tool to cover 60% of population\\n\\n3 days ago\\n\\nWeather News\", \"score\": 0.29033202}]\n",
      "==================================\u001b[1m Ai Message \u001b[0m==================================\n",
      "\n",
      "The current weather in New Delhi is partly cloudy with a high temperature of 36° and a low temperature of 28°. There is a chance of light rain showers and patchy rain possible in the coming days.\n"
     ]
    }
   ],
   "source": [
    "events = app.stream(None, config, stream_mode=\"values\")\n",
    "for event in events:\n",
    "    event[\"messages\"][-1].pretty_print()"
   ]
  }
 ],
 "metadata": {
  "kernelspec": {
   "display_name": "venv",
   "language": "python",
   "name": "python3"
  },
  "language_info": {
   "codemirror_mode": {
    "name": "ipython",
    "version": 3
   },
   "file_extension": ".py",
   "mimetype": "text/x-python",
   "name": "python",
   "nbconvert_exporter": "python",
   "pygments_lexer": "ipython3",
   "version": "3.13.7"
  }
 },
 "nbformat": 4,
 "nbformat_minor": 5
}
