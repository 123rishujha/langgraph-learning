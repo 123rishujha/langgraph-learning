{
 "cells": [
  {
   "cell_type": "code",
   "execution_count": 1,
   "id": "aaefb23b",
   "metadata": {},
   "outputs": [],
   "source": [
    "from langchain.schema import Document\n",
    "from langchain.vectorstores import Chroma\n",
    "from langchain_openai import OpenAIEmbeddings\n",
    "\n",
    "\n",
    "embedding_function = OpenAIEmbeddings()\n",
    "\n",
    "docs = [\n",
    "    Document(\n",
    "        page_content=\"Peak Performance Gym was founded in 2015 by former Olympic athlete Marcus Chen. With over 15 years of experience in professional athletics, Marcus established the gym to provide personalized fitness solutions for people of all levels. The gym spans 10,000 square feet and features state-of-the-art equipment.\",\n",
    "        metadata={\"source\": \"about.txt\"}\n",
    "    ),\n",
    "    Document(\n",
    "        page_content=\"Peak Performance Gym is open Monday through Friday from 5:00 AM to 11:00 PM. On weekends, our hours are 7:00 AM to 9:00 PM. We remain closed on major national holidays. Members with Premium access can enter using their key cards 24/7, including holidays.\",\n",
    "        metadata={\"source\": \"hours.txt\"}\n",
    "    ),\n",
    "    Document(\n",
    "        page_content=\"Our membership plans include: Basic (₹1,500/month) with access to gym floor and basic equipment; Standard (₹2,500/month) adds group classes and locker facilities; Premium (₹4,000/month) includes 24/7 access, personal training sessions, and spa facilities. We offer student and senior citizen discounts of 15% on all plans. Corporate partnerships are available for companies with 10+ employees joining.\",\n",
    "        metadata={\"source\": \"membership.txt\"}\n",
    "    ),\n",
    "    Document(\n",
    "        page_content=\"Group fitness classes at Peak Performance Gym include Yoga (beginner, intermediate, advanced), HIIT, Zumba, Spin Cycling, CrossFit, and Pilates. Beginner classes are held every Monday and Wednesday at 6:00 PM. Intermediate and advanced classes are scheduled throughout the week. The full schedule is available on our mobile app or at the reception desk.\",\n",
    "        metadata={\"source\": \"classes.txt\"}\n",
    "    ),\n",
    "    Document(\n",
    "        page_content=\"Personal trainers at Peak Performance Gym are all certified professionals with minimum 5 years of experience. Each new member receives a complimentary fitness assessment and one free session with a trainer. Our head trainer, Neha Kapoor, specializes in rehabilitation fitness and sports-specific training. Personal training sessions can be booked individually (₹800/session) or in packages of 10 (₹7,000) or 20 (₹13,000).\",\n",
    "        metadata={\"source\": \"trainers.txt\"}\n",
    "    ),\n",
    "    Document(\n",
    "        page_content=\"Peak Performance Gym's facilities include a cardio zone with 30+ machines, strength training area, functional fitness space, dedicated yoga studio, spin class room, swimming pool (25m), sauna and steam rooms, juice bar, and locker rooms with shower facilities. Our equipment is replaced or upgraded every 3 years to ensure members have access to the latest fitness technology.\",\n",
    "        metadata={\"source\": \"facilities.txt\"}\n",
    "    )\n",
    "]\n",
    "\n",
    "\n",
    "db = Chroma.from_documents(docs, embedding_function)\n",
    "\n",
    "retriever = db.as_retriever(search_type=\"mmr\", search_kwargs={\"k\":3})\n"
   ]
  },
  {
   "cell_type": "code",
   "execution_count": 19,
   "id": "49072405",
   "metadata": {},
   "outputs": [],
   "source": [
    "from langchain_openai import ChatOpenAI\n",
    "from langchain_core.prompts import ChatPromptTemplate\n",
    "from langchain_core.output_parsers import StrOutputParser\n",
    "\n",
    "llm = ChatOpenAI(model=\"gpt-4o\")\n",
    "\n",
    "prompt = \"\"\"\n",
    "Answer the question based on the context {context}\n",
    "question: {question}\"\"\" \n",
    "\n",
    "prompt_template = ChatPromptTemplate.from_template(prompt)\n",
    "\n",
    "def format_doc(docs):\n",
    "    return \"\\n\\n\".join(doc.page_content for doc in docs)\n",
    "\n",
    "\n",
    "rag_chain = (\n",
    "    prompt_template | llm  | StrOutputParser()\n",
    ")\n",
    "\n",
    "# llm_res = chain.invoke(\"Who founded the gym and what are the timings?\")\n",
    "# llm_res"
   ]
  },
  {
   "cell_type": "code",
   "execution_count": 20,
   "id": "75ea9f83",
   "metadata": {},
   "outputs": [],
   "source": [
    "# first check if user question is related to our product or not\n",
    "# if question is not related then response with sorry message\n",
    "# if question is related then get relavant chunks from retriever\n",
    "# call the llm with retrieved chunks and user question and get final answer\n",
    "from typing import TypedDict,List\n",
    "from pydantic import BaseModel, Field\n",
    "from langchain_core.messages import AIMessage, HumanMessage, BaseMessage\n",
    "from langchain.schema import Document\n",
    "\n",
    "\n",
    "class State(TypedDict):\n",
    "    messages: List[BaseMessage]\n",
    "    documents: List[Document]\n",
    "    on_topic: str \n",
    "\n",
    "\n",
    "class GradeQuestion(BaseModel):\n",
    "    \"Boolean value to check whether a question is related to the Peak Performance Gym\"\n",
    "    score: str = Field(\n",
    "        description=\"Question is about gym? If yes -> 'Yes' if not -> 'No' \"\n",
    "    )\n",
    "\n",
    "def question_classifyer_node(state: State):\n",
    "    user_question = state['messages'][-1].content\n",
    "\n",
    "    system_prompt = \"\"\"You are a classifier that determines wheater the user's questions belongs to one of the following topics\n",
    "    1. Gym History & Founder\n",
    "    2. Operating Hours\n",
    "    3. Membership Plans \n",
    "    4. Fitness Classes\n",
    "    5. Personal Trainers\n",
    "    6. Facilities & Equipment\n",
    "\n",
    "    if user's questions belongs to these questions then response with 'Yes' Otherwise response with 'No'\n",
    "    \"\"\"\n",
    "\n",
    "    grade_prompt = ChatPromptTemplate.from_messages([\n",
    "        (\"system\", system_prompt),\n",
    "        (\"human\", \"user question {user_question}\"),\n",
    "    ])\n",
    "\n",
    "    grade_llm = llm.with_structured_output(GradeQuestion)\n",
    "    grade_chain = grade_prompt | grade_llm\n",
    "    respone = grade_chain.invoke({\"user_question\": user_question})\n",
    "    \n",
    "    state[\"on_topic\"] = respone.score\n",
    "\n",
    "    return state\n",
    "\n",
    "def off_topic_node(state: State):\n",
    "    state[\"messages\"] = state[\"messages\"] + [AIMessage(content=\"Sorry I can't answer this\")]\n",
    "    return state\n",
    "\n",
    "def retriever_node(state: State):\n",
    "    response = retriever.invoke(state[\"messages\"][-1].content)\n",
    "    state[\"documents\"] = format_doc(response)\n",
    "    return state\n",
    "\n",
    "def answer_node(state: State):\n",
    "    question = state[\"messages\"][-1].content\n",
    "    context = state[\"documents\"]\n",
    "    response = rag_chain.invoke({\"question\": question, \"context\": context})\n",
    "    state[\"messages\"].append(AIMessage(content=response))\n"
   ]
  },
  {
   "cell_type": "code",
   "execution_count": 21,
   "id": "7594859c",
   "metadata": {},
   "outputs": [],
   "source": [
    "from langgraph.graph import StateGraph,END\n",
    "\n",
    "\n",
    "def on_topic_router(state: State):\n",
    "    on_topic_value = state[\"on_topic\"]\n",
    "    if on_topic_value.lower() == \"yes\":\n",
    "        return \"on_topic\"\n",
    "    return \"off_topic\"\n",
    "\n",
    "workflow = StateGraph(State)\n",
    "workflow.add_node(\"question_classifyer_node\", question_classifyer_node)\n",
    "workflow.add_node(\"off_topic_node\",off_topic_node)\n",
    "workflow.add_node(\"retriever_node\",retriever_node)\n",
    "workflow.add_node(\"answer_node\",answer_node)\n",
    "\n",
    "workflow.set_entry_point(\"question_classifyer_node\")\n",
    "workflow.add_conditional_edges(\"question_classifyer_node\", on_topic_router, {\n",
    "    \"on_topic\": \"retriever_node\",\n",
    "    \"off_topic\": \"off_topic_node\"\n",
    "})\n",
    "workflow.add_edge(\"retriever_node\",\"answer_node\")\n",
    "workflow.add_edge(\"answer_node\",END)\n",
    "workflow.add_edge(\"off_topic_node\",END)\n",
    "\n",
    "graph = workflow.compile()\n"
   ]
  },
  {
   "cell_type": "code",
   "execution_count": 17,
   "id": "781ab418",
   "metadata": {},
   "outputs": [
    {
     "data": {
      "image/png": "[encoded data removed]",
      "text/plain": [
       "<IPython.core.display.Image object>"
      ]
     },
     "metadata": {},
     "output_type": "display_data"
    }
   ],
   "source": [
    "from IPython.display import Image,display\n",
    "from langchain_core.runnables.graph import MermaidDrawMethod\n",
    "\n",
    "display(Image(\n",
    "graph.get_graph().draw_mermaid_png(\n",
    "    draw_method=MermaidDrawMethod.API\n",
    ")\n",
    "))"
   ]
  },
  {
   "cell_type": "code",
   "execution_count": 23,
   "id": "de9f03de",
   "metadata": {},
   "outputs": [
    {
     "data": {
      "text/plain": [
       "{'messages': [HumanMessage(content='Who is the owner and what are the timings?', additional_kwargs={}, response_metadata={}),\n",
       "  AIMessage(content='The owner of Peak Performance Gym is Marcus Chen. The gym is open Monday through Friday from 5:00 AM to 11:00 PM and on weekends from 7:00 AM to 9:00 PM. Members with Premium access have 24/7 entry, including holidays, using their key cards.', additional_kwargs={}, response_metadata={})],\n",
       " 'documents': 'Peak Performance Gym is open Monday through Friday from 5:00 AM to 11:00 PM. On weekends, our hours are 7:00 AM to 9:00 PM. We remain closed on major national holidays. Members with Premium access can enter using their key cards 24/7, including holidays.\\n\\nOur membership plans include: Basic (₹1,500/month) with access to gym floor and basic equipment; Standard (₹2,500/month) adds group classes and locker facilities; Premium (₹4,000/month) includes 24/7 access, personal training sessions, and spa facilities. We offer student and senior citizen discounts of 15% on all plans. Corporate partnerships are available for companies with 10+ employees joining.\\n\\nPeak Performance Gym was founded in 2015 by former Olympic athlete Marcus Chen. With over 15 years of experience in professional athletics, Marcus established the gym to provide personalized fitness solutions for people of all levels. The gym spans 10,000 square feet and features state-of-the-art equipment.',\n",
       " 'on_topic': 'Yes'}"
      ]
     },
     "execution_count": 23,
     "metadata": {},
     "output_type": "execute_result"
    }
   ],
   "source": [
    "res = graph.invoke({\n",
    "    \"messages\": [HumanMessage(content=\"Who is the owner and what are the timings?\")]\n",
    "})\n",
    "res"
   ]
  },
  {
   "cell_type": "code",
   "execution_count": 24,
   "id": "d6fac63b",
   "metadata": {},
   "outputs": [
    {
     "data": {
      "text/plain": [
       "{'messages': [HumanMessage(content='What does the company Apple do?', additional_kwargs={}, response_metadata={}),\n",
       "  AIMessage(content=\"Sorry I can't answer this\", additional_kwargs={}, response_metadata={})],\n",
       " 'on_topic': 'No'}"
      ]
     },
     "execution_count": 24,
     "metadata": {},
     "output_type": "execute_result"
    }
   ],
   "source": [
    "graph.invoke(input={\n",
    "    \"messages\": [HumanMessage(content=\"What does the company Apple do?\")]\n",
    "})"
   ]
  }
 ],
 "metadata": {
  "kernelspec": {
   "display_name": "venv",
   "language": "python",
   "name": "python3"
  },
  "language_info": {
   "codemirror_mode": {
    "name": "ipython",
    "version": 3
   },
   "file_extension": ".py",
   "mimetype": "text/x-python",
   "name": "python",
   "nbconvert_exporter": "python",
   "pygments_lexer": "ipython3",
   "version": "3.13.7"
  }
 },
 "nbformat": 4,
 "nbformat_minor": 5
}
