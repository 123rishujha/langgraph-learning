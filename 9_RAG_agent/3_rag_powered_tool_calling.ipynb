{
 "cells": [
  {
   "cell_type": "code",
   "execution_count": 2,
   "id": "589d1b04",
   "metadata": {},
   "outputs": [],
   "source": [
    "from langchain.vectorstores import Chroma\n",
    "from langchain.schema import Document\n",
    "from langchain_openai import OpenAIEmbeddings\n",
    "\n",
    "embedding_func = OpenAIEmbeddings()\n",
    "\n",
    "docs = [\n",
    "    Document(\n",
    "        page_content=\"Peak Performance Gym was founded in 2015 by former Olympic athlete Marcus Chen. With over 15 years of experience in professional athletics, Marcus established the gym to provide personalized fitness solutions for people of all levels. The gym spans 10,000 square feet and features state-of-the-art equipment.\",\n",
    "        metadata={\"source\": \"about.txt\"}\n",
    "    ),\n",
    "    Document(\n",
    "        page_content=\"Peak Performance Gym is open Monday through Friday from 5:00 AM to 11:00 PM. On weekends, our hours are 7:00 AM to 9:00 PM. We remain closed on major national holidays. Members with Premium access can enter using their key cards 24/7, including holidays.\",\n",
    "        metadata={\"source\": \"hours.txt\"}\n",
    "    ),\n",
    "    Document(\n",
    "        page_content=\"Our membership plans include: Basic (₹1,500/month) with access to gym floor and basic equipment; Standard (₹2,500/month) adds group classes and locker facilities; Premium (₹4,000/month) includes 24/7 access, personal training sessions, and spa facilities. We offer student and senior citizen discounts of 15% on all plans. Corporate partnerships are available for companies with 10+ employees joining.\",\n",
    "        metadata={\"source\": \"membership.txt\"}\n",
    "    ),\n",
    "    Document(\n",
    "        page_content=\"Group fitness classes at Peak Performance Gym include Yoga (beginner, intermediate, advanced), HIIT, Zumba, Spin Cycling, CrossFit, and Pilates. Beginner classes are held every Monday and Wednesday at 6:00 PM. Intermediate and advanced classes are scheduled throughout the week. The full schedule is available on our mobile app or at the reception desk.\",\n",
    "        metadata={\"source\": \"classes.txt\"}\n",
    "    ),\n",
    "    Document(\n",
    "        page_content=\"Personal trainers at Peak Performance Gym are all certified professionals with minimum 5 years of experience. Each new member receives a complimentary fitness assessment and one free session with a trainer. Our head trainer, Neha Kapoor, specializes in rehabilitation fitness and sports-specific training. Personal training sessions can be booked individually (₹800/session) or in packages of 10 (₹7,000) or 20 (₹13,000).\",\n",
    "        metadata={\"source\": \"trainers.txt\"}\n",
    "    ),\n",
    "    Document(\n",
    "        page_content=\"Peak Performance Gym's facilities include a cardio zone with 30+ machines, strength training area, functional fitness space, dedicated yoga studio, spin class room, swimming pool (25m), sauna and steam rooms, juice bar, and locker rooms with shower facilities. Our equipment is replaced or upgraded every 3 years to ensure members have access to the latest fitness technology.\",\n",
    "        metadata={\"source\": \"facilities.txt\"}\n",
    "    )\n",
    "]\n",
    "\n",
    "db = Chroma.from_documents(documents=docs, embedding=embedding_func)\n",
    "\n",
    "retriever = db.as_retriever(search_type=\"mmr\", search_kwargs={\"k\": 3})\n"
   ]
  },
  {
   "cell_type": "code",
   "execution_count": 3,
   "id": "95e8a459",
   "metadata": {},
   "outputs": [],
   "source": [
    "\n",
    "from langchain.tools.retriever import create_retriever_tool\n",
    "from langchain_core.tools import tool\n",
    "\n",
    "retriever_tool = create_retriever_tool(\n",
    "    retriever=retriever,\n",
    "    name=\"retriever_tool\",\n",
    "    description=\"Information related to Gym History & Founder, Operating Hours, Membership Plans, Fitness Classes, Personal Trainers, and Facilities & Equipment of Peak Performance Gym\"\n",
    ")\n",
    "\n",
    "@tool\n",
    "def off_topic():\n",
    "    \"\"\"Catch all Questions NOT related to Peak Performance Gym's history, hours, membership plans, fitness classes, trainers, or facilities\"\"\"\n",
    "    return \"Forbidden do not responde to the user\"\n",
    "\n",
    "tools = [retriever_tool, off_topic]\n"
   ]
  },
  {
   "cell_type": "code",
   "execution_count": 4,
   "id": "58ace736",
   "metadata": {},
   "outputs": [],
   "source": [
    "from typing import Annotated, TypedDict, List\n",
    "from langchain_core.messages import BaseMessage,HumanMessage\n",
    "from langgraph.graph import StateGraph, add_messages, START,END\n",
    "from langchain_openai import ChatOpenAI\n",
    "\n",
    "\n",
    "class AgentState(TypedDict):\n",
    "    messages: Annotated[List[BaseMessage], add_messages]\n",
    "\n",
    "model = ChatOpenAI(model=\"gpt-4o\")\n",
    "llm_model_with_tools = model.bind_tools(tools=tools)"
   ]
  },
  {
   "cell_type": "code",
   "execution_count": null,
   "id": "5788e80b",
   "metadata": {},
   "outputs": [],
   "source": [
    "from langgraph.prebuilt import ToolNode\n",
    "\n",
    "def llm_model_node(state: AgentState):\n",
    "    last_message = state[\"messages\"]\n",
    "    response = llm_model_with_tools.invoke(last_message)\n",
    "    print(f\"ai response msg: {response}\")\n",
    "    return {\"messages\": [response]}\n",
    "\n",
    "def should_continue_route(state: AgentState):\n",
    "    last_message = state[\"messages\"][-1]\n",
    "    print(f\"last msg: {last_message}\")\n",
    "    if last_message.tool_calls:\n",
    "        return \"tool_node\"\n",
    "    return \"END\"\n",
    "\n",
    "\n",
    "workflow = StateGraph(AgentState)\n",
    "\n",
    "workflow.add_node(\"llm_model_node\", llm_model_node)\n",
    "workflow.add_node(\"tool_node\", ToolNode(tools=tools))\n",
    "\n",
    "workflow.add_edge(START, \"llm_model_node\")\n",
    "workflow.add_conditional_edges(\"llm_model_node\", should_continue_route, {\n",
    "    \"tool_node\": \"tool_node\",\n",
    "    \"END\": END\n",
    "})\n",
    "workflow.add_edge(\"tool_node\", \"llm_model_node\")\n",
    "\n",
    "graph = workflow.compile()"
   ]
  },
  {
   "cell_type": "code",
   "execution_count": 50,
   "id": "17f3b532",
   "metadata": {},
   "outputs": [
    {
     "data": {
      "image/png": "[encoded data removed]",
      "text/plain": [
       "<IPython.core.display.Image object>"
      ]
     },
     "metadata": {},
     "output_type": "display_data"
    }
   ],
   "source": [
    "from IPython.display import Image, display\n",
    "from langchain_core.runnables.graph import MermaidDrawMethod\n",
    "\n",
    "display(\n",
    "    Image(\n",
    "        graph.get_graph().draw_mermaid_png(\n",
    "            draw_method=MermaidDrawMethod.API,\n",
    "        )\n",
    "    )\n",
    ")"
   ]
  },
  {
   "cell_type": "code",
   "execution_count": 6,
   "id": "398655b2",
   "metadata": {},
   "outputs": [
    {
     "name": "stdout",
     "output_type": "stream",
     "text": [
      "checkingg How will the weather be tommorrow?\n",
      "ai response msg: content='' additional_kwargs={'tool_calls': [{'id': 'call_tOCEbbTNiOY1bHkeUGckNUWN', 'function': {'arguments': '{}', 'name': 'off_topic'}, 'type': 'function'}], 'refusal': None} response_metadata={'token_usage': {'completion_tokens': 10, 'prompt_tokens': 118, 'total_tokens': 128, 'completion_tokens_details': {'accepted_prediction_tokens': 0, 'audio_tokens': 0, 'reasoning_tokens': 0, 'rejected_prediction_tokens': 0}, 'prompt_tokens_details': {'audio_tokens': 0, 'cached_tokens': 0}}, 'model_name': 'gpt-4o-2024-08-06', 'system_fingerprint': 'fp_f33640a400', 'id': 'chatcmpl-CFIvGDpp9fwVe8DZfiaEyJd74UEjj', 'service_tier': 'default', 'finish_reason': 'tool_calls', 'logprobs': None} id='run--9c561566-ba46-4bce-8acb-df176d8371a5-0' tool_calls=[{'name': 'off_topic', 'args': {}, 'id': 'call_tOCEbbTNiOY1bHkeUGckNUWN', 'type': 'tool_call'}] usage_metadata={'input_tokens': 118, 'output_tokens': 10, 'total_tokens': 128, 'input_token_details': {'audio': 0, 'cache_read': 0}, 'output_token_details': {'audio': 0, 'reasoning': 0}}\n",
      "last msg: content='' additional_kwargs={'tool_calls': [{'id': 'call_tOCEbbTNiOY1bHkeUGckNUWN', 'function': {'arguments': '{}', 'name': 'off_topic'}, 'type': 'function'}], 'refusal': None} response_metadata={'token_usage': {'completion_tokens': 10, 'prompt_tokens': 118, 'total_tokens': 128, 'completion_tokens_details': {'accepted_prediction_tokens': 0, 'audio_tokens': 0, 'reasoning_tokens': 0, 'rejected_prediction_tokens': 0}, 'prompt_tokens_details': {'audio_tokens': 0, 'cached_tokens': 0}}, 'model_name': 'gpt-4o-2024-08-06', 'system_fingerprint': 'fp_f33640a400', 'id': 'chatcmpl-CFIvGDpp9fwVe8DZfiaEyJd74UEjj', 'service_tier': 'default', 'finish_reason': 'tool_calls', 'logprobs': None} id='run--9c561566-ba46-4bce-8acb-df176d8371a5-0' tool_calls=[{'name': 'off_topic', 'args': {}, 'id': 'call_tOCEbbTNiOY1bHkeUGckNUWN', 'type': 'tool_call'}] usage_metadata={'input_tokens': 118, 'output_tokens': 10, 'total_tokens': 128, 'input_token_details': {'audio': 0, 'cache_read': 0}, 'output_token_details': {'audio': 0, 'reasoning': 0}}\n",
      "checkingg Forbidden do not responde to the user\n",
      "ai response msg: content=\"I'm sorry, but I can't provide information on the weather. If you have questions about Peak Performance Gym, feel free to ask!\" additional_kwargs={'refusal': None} response_metadata={'token_usage': {'completion_tokens': 27, 'prompt_tokens': 143, 'total_tokens': 170, 'completion_tokens_details': {'accepted_prediction_tokens': 0, 'audio_tokens': 0, 'reasoning_tokens': 0, 'rejected_prediction_tokens': 0}, 'prompt_tokens_details': {'audio_tokens': 0, 'cached_tokens': 0}}, 'model_name': 'gpt-4o-2024-08-06', 'system_fingerprint': 'fp_f33640a400', 'id': 'chatcmpl-CFIvHB163iZOd12dyldvwUiHj6HXW', 'service_tier': 'default', 'finish_reason': 'stop', 'logprobs': None} id='run--0c1768fe-e6fb-4fa7-b82c-9072f896381f-0' usage_metadata={'input_tokens': 143, 'output_tokens': 27, 'total_tokens': 170, 'input_token_details': {'audio': 0, 'cache_read': 0}, 'output_token_details': {'audio': 0, 'reasoning': 0}}\n",
      "last msg: content=\"I'm sorry, but I can't provide information on the weather. If you have questions about Peak Performance Gym, feel free to ask!\" additional_kwargs={'refusal': None} response_metadata={'token_usage': {'completion_tokens': 27, 'prompt_tokens': 143, 'total_tokens': 170, 'completion_tokens_details': {'accepted_prediction_tokens': 0, 'audio_tokens': 0, 'reasoning_tokens': 0, 'rejected_prediction_tokens': 0}, 'prompt_tokens_details': {'audio_tokens': 0, 'cached_tokens': 0}}, 'model_name': 'gpt-4o-2024-08-06', 'system_fingerprint': 'fp_f33640a400', 'id': 'chatcmpl-CFIvHB163iZOd12dyldvwUiHj6HXW', 'service_tier': 'default', 'finish_reason': 'stop', 'logprobs': None} id='run--0c1768fe-e6fb-4fa7-b82c-9072f896381f-0' usage_metadata={'input_tokens': 143, 'output_tokens': 27, 'total_tokens': 170, 'input_token_details': {'audio': 0, 'cache_read': 0}, 'output_token_details': {'audio': 0, 'reasoning': 0}}\n"
     ]
    },
    {
     "data": {
      "text/plain": [
       "{'messages': [HumanMessage(content='How will the weather be tommorrow?', additional_kwargs={}, response_metadata={}, id='40480685-1fb0-47f5-9b91-8e5e4585c357'),\n",
       "  AIMessage(content='', additional_kwargs={'tool_calls': [{'id': 'call_tOCEbbTNiOY1bHkeUGckNUWN', 'function': {'arguments': '{}', 'name': 'off_topic'}, 'type': 'function'}], 'refusal': None}, response_metadata={'token_usage': {'completion_tokens': 10, 'prompt_tokens': 118, 'total_tokens': 128, 'completion_tokens_details': {'accepted_prediction_tokens': 0, 'audio_tokens': 0, 'reasoning_tokens': 0, 'rejected_prediction_tokens': 0}, 'prompt_tokens_details': {'audio_tokens': 0, 'cached_tokens': 0}}, 'model_name': 'gpt-4o-2024-08-06', 'system_fingerprint': 'fp_f33640a400', 'id': 'chatcmpl-CFIvGDpp9fwVe8DZfiaEyJd74UEjj', 'service_tier': 'default', 'finish_reason': 'tool_calls', 'logprobs': None}, id='run--9c561566-ba46-4bce-8acb-df176d8371a5-0', tool_calls=[{'name': 'off_topic', 'args': {}, 'id': 'call_tOCEbbTNiOY1bHkeUGckNUWN', 'type': 'tool_call'}], usage_metadata={'input_tokens': 118, 'output_tokens': 10, 'total_tokens': 128, 'input_token_details': {'audio': 0, 'cache_read': 0}, 'output_token_details': {'audio': 0, 'reasoning': 0}}),\n",
       "  ToolMessage(content='Forbidden do not responde to the user', name='off_topic', id='be69ef6c-4a4b-4e89-b0fa-a56a7a50a8c7', tool_call_id='call_tOCEbbTNiOY1bHkeUGckNUWN'),\n",
       "  AIMessage(content=\"I'm sorry, but I can't provide information on the weather. If you have questions about Peak Performance Gym, feel free to ask!\", additional_kwargs={'refusal': None}, response_metadata={'token_usage': {'completion_tokens': 27, 'prompt_tokens': 143, 'total_tokens': 170, 'completion_tokens_details': {'accepted_prediction_tokens': 0, 'audio_tokens': 0, 'reasoning_tokens': 0, 'rejected_prediction_tokens': 0}, 'prompt_tokens_details': {'audio_tokens': 0, 'cached_tokens': 0}}, 'model_name': 'gpt-4o-2024-08-06', 'system_fingerprint': 'fp_f33640a400', 'id': 'chatcmpl-CFIvHB163iZOd12dyldvwUiHj6HXW', 'service_tier': 'default', 'finish_reason': 'stop', 'logprobs': None}, id='run--0c1768fe-e6fb-4fa7-b82c-9072f896381f-0', usage_metadata={'input_tokens': 143, 'output_tokens': 27, 'total_tokens': 170, 'input_token_details': {'audio': 0, 'cache_read': 0}, 'output_token_details': {'audio': 0, 'reasoning': 0}})]}"
      ]
     },
     "execution_count": 6,
     "metadata": {},
     "output_type": "execute_result"
    }
   ],
   "source": [
    "graph.invoke(\n",
    "    {\"messages\": [HumanMessage(content=\"How will the weather be tommorrow?\")]}\n",
    ")"
   ]
  },
  {
   "cell_type": "code",
   "execution_count": 52,
   "id": "5a0951a5",
   "metadata": {},
   "outputs": [
    {
     "name": "stdout",
     "output_type": "stream",
     "text": [
      "ai response msg: content='' additional_kwargs={'tool_calls': [{'id': 'call_KtsoR3uwps1KS5PAgW0VHQfe', 'function': {'arguments': '{\"query\": \"owner of Peak Performance Gym\"}', 'name': 'retriever_tool'}, 'type': 'function'}, {'id': 'call_QQhFyVq4QEJRkA8lCykfniR9', 'function': {'arguments': '{\"query\": \"operating hours of Peak Performance Gym\"}', 'name': 'retriever_tool'}, 'type': 'function'}], 'refusal': None} response_metadata={'token_usage': {'completion_tokens': 58, 'prompt_tokens': 119, 'total_tokens': 177, 'completion_tokens_details': {'accepted_prediction_tokens': 0, 'audio_tokens': 0, 'reasoning_tokens': 0, 'rejected_prediction_tokens': 0}, 'prompt_tokens_details': {'audio_tokens': 0, 'cached_tokens': 0}}, 'model_name': 'gpt-4o-2024-08-06', 'system_fingerprint': 'fp_f33640a400', 'id': 'chatcmpl-CFBK0QNtyWyDi2gXP0bHfGcAKAqB2', 'service_tier': 'default', 'finish_reason': 'tool_calls', 'logprobs': None} id='run--67cea5e6-665e-49bf-9de6-64fb479a306f-0' tool_calls=[{'name': 'retriever_tool', 'args': {'query': 'owner of Peak Performance Gym'}, 'id': 'call_KtsoR3uwps1KS5PAgW0VHQfe', 'type': 'tool_call'}, {'name': 'retriever_tool', 'args': {'query': 'operating hours of Peak Performance Gym'}, 'id': 'call_QQhFyVq4QEJRkA8lCykfniR9', 'type': 'tool_call'}] usage_metadata={'input_tokens': 119, 'output_tokens': 58, 'total_tokens': 177, 'input_token_details': {'audio': 0, 'cache_read': 0}, 'output_token_details': {'audio': 0, 'reasoning': 0}}\n",
      "last msg: content='' additional_kwargs={'tool_calls': [{'id': 'call_KtsoR3uwps1KS5PAgW0VHQfe', 'function': {'arguments': '{\"query\": \"owner of Peak Performance Gym\"}', 'name': 'retriever_tool'}, 'type': 'function'}, {'id': 'call_QQhFyVq4QEJRkA8lCykfniR9', 'function': {'arguments': '{\"query\": \"operating hours of Peak Performance Gym\"}', 'name': 'retriever_tool'}, 'type': 'function'}], 'refusal': None} response_metadata={'token_usage': {'completion_tokens': 58, 'prompt_tokens': 119, 'total_tokens': 177, 'completion_tokens_details': {'accepted_prediction_tokens': 0, 'audio_tokens': 0, 'reasoning_tokens': 0, 'rejected_prediction_tokens': 0}, 'prompt_tokens_details': {'audio_tokens': 0, 'cached_tokens': 0}}, 'model_name': 'gpt-4o-2024-08-06', 'system_fingerprint': 'fp_f33640a400', 'id': 'chatcmpl-CFBK0QNtyWyDi2gXP0bHfGcAKAqB2', 'service_tier': 'default', 'finish_reason': 'tool_calls', 'logprobs': None} id='run--67cea5e6-665e-49bf-9de6-64fb479a306f-0' tool_calls=[{'name': 'retriever_tool', 'args': {'query': 'owner of Peak Performance Gym'}, 'id': 'call_KtsoR3uwps1KS5PAgW0VHQfe', 'type': 'tool_call'}, {'name': 'retriever_tool', 'args': {'query': 'operating hours of Peak Performance Gym'}, 'id': 'call_QQhFyVq4QEJRkA8lCykfniR9', 'type': 'tool_call'}] usage_metadata={'input_tokens': 119, 'output_tokens': 58, 'total_tokens': 177, 'input_token_details': {'audio': 0, 'cache_read': 0}, 'output_token_details': {'audio': 0, 'reasoning': 0}}\n",
      "ai response msg: content='Peak Performance Gym was founded in 2015 by former Olympic athlete Marcus Chen, who is the owner. The gym is open Monday through Friday from 5:00 AM to 11:00 PM, and on weekends from 7:00 AM to 9:00 PM. They are closed on major national holidays, but members with Premium access can enter using their key cards 24/7, including holidays.' additional_kwargs={'refusal': None} response_metadata={'token_usage': {'completion_tokens': 85, 'prompt_tokens': 617, 'total_tokens': 702, 'completion_tokens_details': {'accepted_prediction_tokens': 0, 'audio_tokens': 0, 'reasoning_tokens': 0, 'rejected_prediction_tokens': 0}, 'prompt_tokens_details': {'audio_tokens': 0, 'cached_tokens': 0}}, 'model_name': 'gpt-4o-2024-08-06', 'system_fingerprint': 'fp_f33640a400', 'id': 'chatcmpl-CFBK3w0uD08SKsuOVUulgXyTAJ4Bt', 'service_tier': 'default', 'finish_reason': 'stop', 'logprobs': None} id='run--26cbcc14-cb07-4c9d-a487-43e78e6895d6-0' usage_metadata={'input_tokens': 617, 'output_tokens': 85, 'total_tokens': 702, 'input_token_details': {'audio': 0, 'cache_read': 0}, 'output_token_details': {'audio': 0, 'reasoning': 0}}\n",
      "last msg: content='Peak Performance Gym was founded in 2015 by former Olympic athlete Marcus Chen, who is the owner. The gym is open Monday through Friday from 5:00 AM to 11:00 PM, and on weekends from 7:00 AM to 9:00 PM. They are closed on major national holidays, but members with Premium access can enter using their key cards 24/7, including holidays.' additional_kwargs={'refusal': None} response_metadata={'token_usage': {'completion_tokens': 85, 'prompt_tokens': 617, 'total_tokens': 702, 'completion_tokens_details': {'accepted_prediction_tokens': 0, 'audio_tokens': 0, 'reasoning_tokens': 0, 'rejected_prediction_tokens': 0}, 'prompt_tokens_details': {'audio_tokens': 0, 'cached_tokens': 0}}, 'model_name': 'gpt-4o-2024-08-06', 'system_fingerprint': 'fp_f33640a400', 'id': 'chatcmpl-CFBK3w0uD08SKsuOVUulgXyTAJ4Bt', 'service_tier': 'default', 'finish_reason': 'stop', 'logprobs': None} id='run--26cbcc14-cb07-4c9d-a487-43e78e6895d6-0' usage_metadata={'input_tokens': 617, 'output_tokens': 85, 'total_tokens': 702, 'input_token_details': {'audio': 0, 'cache_read': 0}, 'output_token_details': {'audio': 0, 'reasoning': 0}}\n"
     ]
    },
    {
     "data": {
      "text/plain": [
       "{'messages': [HumanMessage(content='Who is the owner and what are the timings?', additional_kwargs={}, response_metadata={}, id='d296d9ce-e99c-4f91-87b1-7a7eef1cd954'),\n",
       "  AIMessage(content='', additional_kwargs={'tool_calls': [{'id': 'call_KtsoR3uwps1KS5PAgW0VHQfe', 'function': {'arguments': '{\"query\": \"owner of Peak Performance Gym\"}', 'name': 'retriever_tool'}, 'type': 'function'}, {'id': 'call_QQhFyVq4QEJRkA8lCykfniR9', 'function': {'arguments': '{\"query\": \"operating hours of Peak Performance Gym\"}', 'name': 'retriever_tool'}, 'type': 'function'}], 'refusal': None}, response_metadata={'token_usage': {'completion_tokens': 58, 'prompt_tokens': 119, 'total_tokens': 177, 'completion_tokens_details': {'accepted_prediction_tokens': 0, 'audio_tokens': 0, 'reasoning_tokens': 0, 'rejected_prediction_tokens': 0}, 'prompt_tokens_details': {'audio_tokens': 0, 'cached_tokens': 0}}, 'model_name': 'gpt-4o-2024-08-06', 'system_fingerprint': 'fp_f33640a400', 'id': 'chatcmpl-CFBK0QNtyWyDi2gXP0bHfGcAKAqB2', 'service_tier': 'default', 'finish_reason': 'tool_calls', 'logprobs': None}, id='run--67cea5e6-665e-49bf-9de6-64fb479a306f-0', tool_calls=[{'name': 'retriever_tool', 'args': {'query': 'owner of Peak Performance Gym'}, 'id': 'call_KtsoR3uwps1KS5PAgW0VHQfe', 'type': 'tool_call'}, {'name': 'retriever_tool', 'args': {'query': 'operating hours of Peak Performance Gym'}, 'id': 'call_QQhFyVq4QEJRkA8lCykfniR9', 'type': 'tool_call'}], usage_metadata={'input_tokens': 119, 'output_tokens': 58, 'total_tokens': 177, 'input_token_details': {'audio': 0, 'cache_read': 0}, 'output_token_details': {'audio': 0, 'reasoning': 0}}),\n",
       "  ToolMessage(content='Peak Performance Gym was founded in 2015 by former Olympic athlete Marcus Chen. With over 15 years of experience in professional athletics, Marcus established the gym to provide personalized fitness solutions for people of all levels. The gym spans 10,000 square feet and features state-of-the-art equipment.\\n\\nGroup fitness classes at Peak Performance Gym include Yoga (beginner, intermediate, advanced), HIIT, Zumba, Spin Cycling, CrossFit, and Pilates. Beginner classes are held every Monday and Wednesday at 6:00 PM. Intermediate and advanced classes are scheduled throughout the week. The full schedule is available on our mobile app or at the reception desk.\\n\\nPersonal trainers at Peak Performance Gym are all certified professionals with minimum 5 years of experience. Each new member receives a complimentary fitness assessment and one free session with a trainer. Our head trainer, Neha Kapoor, specializes in rehabilitation fitness and sports-specific training. Personal training sessions can be booked individually (₹800/session) or in packages of 10 (₹7,000) or 20 (₹13,000).', name='retriever_tool', id='d33b3c0c-9fdf-4879-90eb-c7bc7f34ba53', tool_call_id='call_KtsoR3uwps1KS5PAgW0VHQfe'),\n",
       "  ToolMessage(content='Peak Performance Gym is open Monday through Friday from 5:00 AM to 11:00 PM. On weekends, our hours are 7:00 AM to 9:00 PM. We remain closed on major national holidays. Members with Premium access can enter using their key cards 24/7, including holidays.\\n\\nGroup fitness classes at Peak Performance Gym include Yoga (beginner, intermediate, advanced), HIIT, Zumba, Spin Cycling, CrossFit, and Pilates. Beginner classes are held every Monday and Wednesday at 6:00 PM. Intermediate and advanced classes are scheduled throughout the week. The full schedule is available on our mobile app or at the reception desk.\\n\\nPeak Performance Gym was founded in 2015 by former Olympic athlete Marcus Chen. With over 15 years of experience in professional athletics, Marcus established the gym to provide personalized fitness solutions for people of all levels. The gym spans 10,000 square feet and features state-of-the-art equipment.', name='retriever_tool', id='3f48e159-3a3a-4693-8476-c69651754089', tool_call_id='call_QQhFyVq4QEJRkA8lCykfniR9'),\n",
       "  AIMessage(content='Peak Performance Gym was founded in 2015 by former Olympic athlete Marcus Chen, who is the owner. The gym is open Monday through Friday from 5:00 AM to 11:00 PM, and on weekends from 7:00 AM to 9:00 PM. They are closed on major national holidays, but members with Premium access can enter using their key cards 24/7, including holidays.', additional_kwargs={'refusal': None}, response_metadata={'token_usage': {'completion_tokens': 85, 'prompt_tokens': 617, 'total_tokens': 702, 'completion_tokens_details': {'accepted_prediction_tokens': 0, 'audio_tokens': 0, 'reasoning_tokens': 0, 'rejected_prediction_tokens': 0}, 'prompt_tokens_details': {'audio_tokens': 0, 'cached_tokens': 0}}, 'model_name': 'gpt-4o-2024-08-06', 'system_fingerprint': 'fp_f33640a400', 'id': 'chatcmpl-CFBK3w0uD08SKsuOVUulgXyTAJ4Bt', 'service_tier': 'default', 'finish_reason': 'stop', 'logprobs': None}, id='run--26cbcc14-cb07-4c9d-a487-43e78e6895d6-0', usage_metadata={'input_tokens': 617, 'output_tokens': 85, 'total_tokens': 702, 'input_token_details': {'audio': 0, 'cache_read': 0}, 'output_token_details': {'audio': 0, 'reasoning': 0}})]}"
      ]
     },
     "execution_count": 52,
     "metadata": {},
     "output_type": "execute_result"
    }
   ],
   "source": [
    "graph.invoke(input={\n",
    "    \"messages\": [HumanMessage(content=\"Who is the owner and what are the timings?\")]\n",
    "})"
   ]
  }
 ],
 "metadata": {
  "kernelspec": {
   "display_name": "venv",
   "language": "python",
   "name": "python3"
  },
  "language_info": {
   "codemirror_mode": {
    "name": "ipython",
    "version": 3
   },
   "file_extension": ".py",
   "mimetype": "text/x-python",
   "name": "python",
   "nbconvert_exporter": "python",
   "pygments_lexer": "ipython3",
   "version": "3.13.7"
  }
 },
 "nbformat": 4,
 "nbformat_minor": 5
}
